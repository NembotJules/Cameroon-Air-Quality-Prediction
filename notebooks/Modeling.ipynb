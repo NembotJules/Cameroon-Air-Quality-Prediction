{
 "cells": [
  {
   "cell_type": "markdown",
   "id": "3f9f3c0c",
   "metadata": {},
   "source": [
    "# Imports"
   ]
  },
  {
   "cell_type": "code",
   "execution_count": 23,
   "id": "6ab159cb",
   "metadata": {},
   "outputs": [],
   "source": [
    "import math\n",
    "import numpy as np\n",
    "import pandas as pd\n",
    "import matplotlib.pyplot as plt\n",
    "import seaborn as sns\n",
    "import mlflow\n",
    "import yaml\n",
    "from sklearn.model_selection import  cross_validate, train_test_split, KFold\n",
    "from sklearn.metrics import  mean_squared_error, make_scorer\n",
    "from sklearn.preprocessing import  StandardScaler, LabelEncoder\n",
    "from sklearn.pipeline import  Pipeline\n",
    "from sklearn.compose import ColumnTransformer\n",
    "from sklearn.preprocessing import FunctionTransformer\n",
    "from xgboost import XGBRegressor as XGBR\n",
    "from catboost import CatBoostRegressor\n",
    "from sklearn.ensemble import RandomForestRegressor, GradientBoostingRegressor\n",
    "from sklearn.linear_model import ElasticNet\n",
    "from sklearn.svm import SVR\n",
    "from sklearn.neighbors import KNeighborsRegressor\n",
    "from sklearn.neural_network import MLPRegressor\n",
    "import mlflow.sklearn\n",
    "import mlflow.xgboost\n",
    "import mlflow.lightgbm\n",
    "import mlflow.catboost\n",
    "import warnings\n",
    "warnings.filterwarnings('ignore')"
   ]
  },
  {
   "cell_type": "code",
   "execution_count": 2,
   "id": "8c1bc4f6",
   "metadata": {},
   "outputs": [],
   "source": [
    "default_config_name = \"../config/default.yaml\"\n",
    "with open(default_config_name, \"r\") as file: \n",
    "    default_config = yaml.safe_load(file)\n"
   ]
  },
  {
   "cell_type": "code",
   "execution_count": 3,
   "id": "31f1c44c",
   "metadata": {},
   "outputs": [
    {
     "data": {
      "text/plain": [
       "'http://3.92.207.97:5000/'"
      ]
     },
     "execution_count": 3,
     "metadata": {},
     "output_type": "execute_result"
    }
   ],
   "source": [
    "default_config[\"mlflow\"][\"tracking_uri\"]"
   ]
  },
  {
   "cell_type": "code",
   "execution_count": 4,
   "id": "4846081b",
   "metadata": {},
   "outputs": [
    {
     "name": "stdout",
     "output_type": "stream",
     "text": [
      "tracking URI: http://3.92.207.97:5000/\n"
     ]
    }
   ],
   "source": [
    "mlflow.set_tracking_uri(default_config[\"mlflow\"][\"tracking_uri\"])\n",
    "mlflow.set_experiment(default_config[\"mlflow\"][\"experiment_name\"])\n",
    "print(f\"tracking URI: {mlflow.get_tracking_uri()}\")"
   ]
  },
  {
   "cell_type": "markdown",
   "id": "b69b6e21",
   "metadata": {},
   "source": [
    "# Reading the Data"
   ]
  },
  {
   "cell_type": "markdown",
   "id": "e5d97515",
   "metadata": {},
   "source": [
    "We read the data and see that the training data has over four thousand rows and thirty three features.\n",
    "\n",
    "Insight: \n",
    "\n",
    "1. Avoid algorithm that suffers from the curse of dimensionality(KNN, etc)\n",
    "2. At some point we will need to use dimensionality reduction technique(PCA, t-SNE) or remove useless features."
   ]
  },
  {
   "cell_type": "code",
   "execution_count": 5,
   "id": "d693be1e",
   "metadata": {},
   "outputs": [
    {
     "name": "stdout",
     "output_type": "stream",
     "text": [
      "s3://cameroon-air-quality-bucket/data/train_test_data/raw_data/train.csv\n",
      "s3://cameroon-air-quality-bucket/data/train_test_data/raw_data/test.csv\n"
     ]
    }
   ],
   "source": [
    "print(default_config[\"data\"][\"raw_train_data_path\"])\n",
    "print(default_config[\"data\"][\"raw_test_data_path\"])"
   ]
  },
  {
   "cell_type": "code",
   "execution_count": 6,
   "id": "0dfec357",
   "metadata": {},
   "outputs": [
    {
     "data": {
      "text/plain": [
       "(4120, 33)"
      ]
     },
     "execution_count": 6,
     "metadata": {},
     "output_type": "execute_result"
    }
   ],
   "source": [
    "train_data = pd.read_csv(default_config[\"data\"][\"raw_train_data_path\"])\n",
    "test_data = pd.read_csv(default_config[\"data\"][\"raw_test_data_path\"])\n",
    "\n",
    "train_data.shape"
   ]
  },
  {
   "cell_type": "code",
   "execution_count": 7,
   "id": "976026c7",
   "metadata": {},
   "outputs": [
    {
     "data": {
      "text/html": [
       "<div>\n",
       "<style scoped>\n",
       "    .dataframe tbody tr th:only-of-type {\n",
       "        vertical-align: middle;\n",
       "    }\n",
       "\n",
       "    .dataframe tbody tr th {\n",
       "        vertical-align: top;\n",
       "    }\n",
       "\n",
       "    .dataframe thead th {\n",
       "        text-align: right;\n",
       "    }\n",
       "</style>\n",
       "<table border=\"1\" class=\"dataframe\">\n",
       "  <thead>\n",
       "    <tr style=\"text-align: right;\">\n",
       "      <th></th>\n",
       "      <th>id</th>\n",
       "      <th>weather_code</th>\n",
       "      <th>temperature_2m_max</th>\n",
       "      <th>temperature_2m_min</th>\n",
       "      <th>temperature_2m_mean</th>\n",
       "      <th>apparent_temperature_max</th>\n",
       "      <th>apparent_temperature_min</th>\n",
       "      <th>apparent_temperature_mean</th>\n",
       "      <th>sunrise</th>\n",
       "      <th>sunset</th>\n",
       "      <th>...</th>\n",
       "      <th>longitude</th>\n",
       "      <th>pm2_5</th>\n",
       "      <th>carbon_monoxide</th>\n",
       "      <th>nitrogen_dioxide</th>\n",
       "      <th>sulphur_dioxide</th>\n",
       "      <th>ozone</th>\n",
       "      <th>aerosol_optical_depth</th>\n",
       "      <th>dust</th>\n",
       "      <th>uv_index</th>\n",
       "      <th>uv_index_clear_sky</th>\n",
       "    </tr>\n",
       "  </thead>\n",
       "  <tbody>\n",
       "    <tr>\n",
       "      <th>0</th>\n",
       "      <td>0</td>\n",
       "      <td>1.0</td>\n",
       "      <td>27.323000</td>\n",
       "      <td>14.823000</td>\n",
       "      <td>20.573002</td>\n",
       "      <td>25.777689</td>\n",
       "      <td>14.690771</td>\n",
       "      <td>19.505260</td>\n",
       "      <td>0</td>\n",
       "      <td>0</td>\n",
       "      <td>...</td>\n",
       "      <td>10.4179</td>\n",
       "      <td>32.275000</td>\n",
       "      <td>324.541667</td>\n",
       "      <td>1.706250</td>\n",
       "      <td>1.164583</td>\n",
       "      <td>90.208333</td>\n",
       "      <td>0.277083</td>\n",
       "      <td>9.916667</td>\n",
       "      <td>2.185417</td>\n",
       "      <td>2.189583</td>\n",
       "    </tr>\n",
       "    <tr>\n",
       "      <th>1</th>\n",
       "      <td>1</td>\n",
       "      <td>1.0</td>\n",
       "      <td>29.528000</td>\n",
       "      <td>17.528000</td>\n",
       "      <td>23.321753</td>\n",
       "      <td>32.480470</td>\n",
       "      <td>18.525795</td>\n",
       "      <td>24.953913</td>\n",
       "      <td>0</td>\n",
       "      <td>0</td>\n",
       "      <td>...</td>\n",
       "      <td>13.6833</td>\n",
       "      <td>12.837500</td>\n",
       "      <td>312.500000</td>\n",
       "      <td>0.118750</td>\n",
       "      <td>0.231250</td>\n",
       "      <td>57.791667</td>\n",
       "      <td>0.343333</td>\n",
       "      <td>2.958333</td>\n",
       "      <td>1.581250</td>\n",
       "      <td>1.979167</td>\n",
       "    </tr>\n",
       "    <tr>\n",
       "      <th>2</th>\n",
       "      <td>2</td>\n",
       "      <td>65.0</td>\n",
       "      <td>23.773000</td>\n",
       "      <td>15.323000</td>\n",
       "      <td>18.233418</td>\n",
       "      <td>24.630080</td>\n",
       "      <td>16.138641</td>\n",
       "      <td>19.608873</td>\n",
       "      <td>0</td>\n",
       "      <td>0</td>\n",
       "      <td>...</td>\n",
       "      <td>10.4179</td>\n",
       "      <td>20.445833</td>\n",
       "      <td>232.000000</td>\n",
       "      <td>1.827083</td>\n",
       "      <td>0.347917</td>\n",
       "      <td>54.416667</td>\n",
       "      <td>0.249167</td>\n",
       "      <td>16.625000</td>\n",
       "      <td>1.970833</td>\n",
       "      <td>2.566667</td>\n",
       "    </tr>\n",
       "    <tr>\n",
       "      <th>3</th>\n",
       "      <td>3</td>\n",
       "      <td>1.0</td>\n",
       "      <td>32.478000</td>\n",
       "      <td>19.227999</td>\n",
       "      <td>25.419668</td>\n",
       "      <td>35.235100</td>\n",
       "      <td>21.212915</td>\n",
       "      <td>27.534365</td>\n",
       "      <td>0</td>\n",
       "      <td>0</td>\n",
       "      <td>...</td>\n",
       "      <td>13.6833</td>\n",
       "      <td>30.583333</td>\n",
       "      <td>381.375000</td>\n",
       "      <td>0.358333</td>\n",
       "      <td>0.491667</td>\n",
       "      <td>53.958333</td>\n",
       "      <td>0.446667</td>\n",
       "      <td>3.333333</td>\n",
       "      <td>2.075000</td>\n",
       "      <td>2.218750</td>\n",
       "    </tr>\n",
       "    <tr>\n",
       "      <th>4</th>\n",
       "      <td>4</td>\n",
       "      <td>3.0</td>\n",
       "      <td>39.858498</td>\n",
       "      <td>28.508501</td>\n",
       "      <td>33.854332</td>\n",
       "      <td>42.387520</td>\n",
       "      <td>30.281784</td>\n",
       "      <td>35.202442</td>\n",
       "      <td>0</td>\n",
       "      <td>0</td>\n",
       "      <td>...</td>\n",
       "      <td>13.4000</td>\n",
       "      <td>38.733333</td>\n",
       "      <td>307.833333</td>\n",
       "      <td>1.429167</td>\n",
       "      <td>0.454167</td>\n",
       "      <td>61.500000</td>\n",
       "      <td>0.697500</td>\n",
       "      <td>74.916667</td>\n",
       "      <td>1.783333</td>\n",
       "      <td>2.170833</td>\n",
       "    </tr>\n",
       "  </tbody>\n",
       "</table>\n",
       "<p>5 rows × 33 columns</p>\n",
       "</div>"
      ],
      "text/plain": [
       "   id  weather_code  temperature_2m_max  temperature_2m_min  \\\n",
       "0   0           1.0           27.323000           14.823000   \n",
       "1   1           1.0           29.528000           17.528000   \n",
       "2   2          65.0           23.773000           15.323000   \n",
       "3   3           1.0           32.478000           19.227999   \n",
       "4   4           3.0           39.858498           28.508501   \n",
       "\n",
       "   temperature_2m_mean  apparent_temperature_max  apparent_temperature_min  \\\n",
       "0            20.573002                 25.777689                 14.690771   \n",
       "1            23.321753                 32.480470                 18.525795   \n",
       "2            18.233418                 24.630080                 16.138641   \n",
       "3            25.419668                 35.235100                 21.212915   \n",
       "4            33.854332                 42.387520                 30.281784   \n",
       "\n",
       "   apparent_temperature_mean  sunrise  sunset  ...  longitude      pm2_5  \\\n",
       "0                  19.505260        0       0  ...    10.4179  32.275000   \n",
       "1                  24.953913        0       0  ...    13.6833  12.837500   \n",
       "2                  19.608873        0       0  ...    10.4179  20.445833   \n",
       "3                  27.534365        0       0  ...    13.6833  30.583333   \n",
       "4                  35.202442        0       0  ...    13.4000  38.733333   \n",
       "\n",
       "   carbon_monoxide  nitrogen_dioxide  sulphur_dioxide      ozone  \\\n",
       "0       324.541667          1.706250         1.164583  90.208333   \n",
       "1       312.500000          0.118750         0.231250  57.791667   \n",
       "2       232.000000          1.827083         0.347917  54.416667   \n",
       "3       381.375000          0.358333         0.491667  53.958333   \n",
       "4       307.833333          1.429167         0.454167  61.500000   \n",
       "\n",
       "   aerosol_optical_depth       dust  uv_index  uv_index_clear_sky  \n",
       "0               0.277083   9.916667  2.185417            2.189583  \n",
       "1               0.343333   2.958333  1.581250            1.979167  \n",
       "2               0.249167  16.625000  1.970833            2.566667  \n",
       "3               0.446667   3.333333  2.075000            2.218750  \n",
       "4               0.697500  74.916667  1.783333            2.170833  \n",
       "\n",
       "[5 rows x 33 columns]"
      ]
     },
     "execution_count": 7,
     "metadata": {},
     "output_type": "execute_result"
    }
   ],
   "source": [
    "train_data.head()"
   ]
  },
  {
   "cell_type": "code",
   "execution_count": 8,
   "id": "4f9f1f70",
   "metadata": {},
   "outputs": [
    {
     "data": {
      "text/plain": [
       "(0, 0, 0, 0)"
      ]
     },
     "execution_count": 8,
     "metadata": {},
     "output_type": "execute_result"
    }
   ],
   "source": [
    "train_data.isnull().sum().sum(), test_data.isnull().sum().sum(), train_data.duplicated().sum().sum(), test_data.duplicated().sum().sum()"
   ]
  },
  {
   "cell_type": "markdown",
   "id": "40c772ad",
   "metadata": {},
   "source": [
    "No null values, no duplicates, the dataset appear to be relatively clean."
   ]
  },
  {
   "cell_type": "code",
   "execution_count": 9,
   "id": "d44fd724",
   "metadata": {},
   "outputs": [
    {
     "name": "stdout",
     "output_type": "stream",
     "text": [
      "pm2_5\n"
     ]
    }
   ],
   "source": [
    "target = default_config['target_column']\n",
    "print(target)"
   ]
  },
  {
   "cell_type": "markdown",
   "id": "b748bf39",
   "metadata": {},
   "source": [
    "# Target Distribution"
   ]
  },
  {
   "cell_type": "markdown",
   "id": "ed5f9e7e",
   "metadata": {},
   "source": [
    "The target distribution appear to be skewed to the right, this indicates the presence of outliers.The highest value for pm2_5 is 172.8291 for the city of Bertoua."
   ]
  },
  {
   "cell_type": "code",
   "execution_count": 10,
   "id": "aa0cccf1",
   "metadata": {},
   "outputs": [
    {
     "data": {
      "text/plain": [
       "<Figure size 1200x600 with 0 Axes>"
      ]
     },
     "metadata": {},
     "output_type": "display_data"
    },
    {
     "data": {
      "image/png": "[encoded data removed]",
      "text/plain": [
       "<Figure size 500x500 with 1 Axes>"
      ]
     },
     "metadata": {},
     "output_type": "display_data"
    }
   ],
   "source": [
    "\n",
    "plt.figure(figsize = (12, 6))\n",
    "sns.displot(train_data[target], kde = True)\n",
    "plt.show()"
   ]
  },
  {
   "cell_type": "markdown",
   "id": "83bc01d4",
   "metadata": {},
   "source": [
    "We can understand a little bit more the overall air quality by creating categories: \n",
    "\n",
    "- Good: pm2_5 < 12.5\n",
    "- Fair: pm2_5 [12.5–25]\n",
    "- Poor: pm2_5 \t[25–50]\n",
    "- Very poor: pm2_5 [50–150]\n",
    "- Extremely poor: pm2_5 More than 150\n"
   ]
  },
  {
   "cell_type": "code",
   "execution_count": 11,
   "id": "abc202ce",
   "metadata": {},
   "outputs": [
    {
     "data": {
      "text/plain": [
       "city\n",
       "Bafoussam     21.769081\n",
       "Bamenda       20.146944\n",
       "Bertoua       17.205552\n",
       "Buea          13.955294\n",
       "Douala        16.375233\n",
       "Ebolowa       10.882733\n",
       "Garoua        21.008722\n",
       "Maroua        18.974740\n",
       "Ngaoundéré    14.738632\n",
       "Yaoundé       16.215085\n",
       "Name: pm2_5, dtype: float64"
      ]
     },
     "execution_count": 11,
     "metadata": {},
     "output_type": "execute_result"
    }
   ],
   "source": [
    "train_data.groupby('city')[target].mean()"
   ]
  },
  {
   "cell_type": "code",
   "execution_count": 12,
   "id": "b8030245",
   "metadata": {},
   "outputs": [
    {
     "data": {
      "image/png": "[encoded data removed]",
      "text/plain": [
       "<Figure size 1000x600 with 1 Axes>"
      ]
     },
     "metadata": {},
     "output_type": "display_data"
    }
   ],
   "source": [
    "mean_pm2_5_by_city = train_data.groupby('city')[target].mean().reset_index()\n",
    "\n",
    "# Plotting\n",
    "plt.figure(figsize=(10, 6))\n",
    "sns.barplot(x='city', y=target, data=mean_pm2_5_by_city, palette='viridis')\n",
    "plt.title('Mean PM2.5 Levels by City')\n",
    "plt.xlabel('City')\n",
    "plt.ylabel('Mean PM2.5')\n",
    "plt.xticks(rotation=45, ha='right')  # Rotate city names for better readability\n",
    "plt.tight_layout()\n",
    "\n",
    "# Show the plot\n",
    "plt.show()"
   ]
  },
  {
   "cell_type": "markdown",
   "id": "c2b91541",
   "metadata": {},
   "source": [
    "On average the air quality amongs the different cities in Cameroon is fair."
   ]
  },
  {
   "cell_type": "markdown",
   "id": "bc6c3a6f",
   "metadata": {},
   "source": [
    "Features like sunrise, sunset, snowfall_sum are non existent in a country like Cameroon, that's why all the values for these features are 0. They are constant so we can delete them"
   ]
  },
  {
   "cell_type": "code",
   "execution_count": 13,
   "id": "9a0d3d5a",
   "metadata": {},
   "outputs": [],
   "source": [
    "train_data.drop(['sunset', 'snowfall_sum', 'sunrise'], axis = 1, inplace = True)\n",
    "test_data.drop(['sunset', 'snowfall_sum', 'sunrise'], axis = 1, inplace = True)"
   ]
  },
  {
   "cell_type": "markdown",
   "id": "8a2e5ff6",
   "metadata": {},
   "source": [
    "# Feature Distribution"
   ]
  },
  {
   "cell_type": "code",
   "execution_count": null,
   "id": "7aad1812",
   "metadata": {},
   "outputs": [],
   "source": [
    "# Create a figure with subplots for each feature\n",
    "features = list(test_data.select_dtypes(['Int64', 'float64'])) # List of all features in your dataset\n",
    "n_features = len(features)  # Number of features to plot\n",
    "\n",
    "# Number of columns per row (3 features per row)\n",
    "n_cols = 3\n",
    "# Number of rows, calculated by dividing the total features by the number of columns\n",
    "n_rows = math.ceil(n_features / n_cols)\n",
    "\n",
    "# Set up the figure with subplots (n_rows x n_cols grid)\n",
    "fig, axes = plt.subplots(n_rows, n_cols, figsize=(15, 5 * n_rows))  # Adjust the figure size\n",
    "\n",
    "# Flatten the axes array for easy iteration, if needed\n",
    "axes = axes.flatten()\n",
    "\n",
    "# Iterate through each feature and plot its distribution for train and test sets\n",
    "for i, feature in enumerate(features):\n",
    "    ax = axes[i]\n",
    "    \n",
    "    # Plot the distribution of the feature in the train set\n",
    "    sns.kdeplot(train_data[feature], ax=ax, label='Train', color='blue', fill=True)\n",
    "    \n",
    "    # Plot the distribution of the feature in the test set\n",
    "    sns.kdeplot(test_data[feature], ax=ax, label='Test', color='orange', fill=True)\n",
    "    \n",
    "    # Set plot labels and title\n",
    "    ax.set_title(f'Distribution of {feature}')\n",
    "    ax.set_xlabel(feature)\n",
    "    ax.set_ylabel('Density')\n",
    "    ax.legend()\n",
    "\n",
    "# Remove any empty subplots if the number of features is not a multiple of n_cols\n",
    "for j in range(i + 1, len(axes)):\n",
    "    fig.delaxes(axes[j])\n",
    "\n",
    "# Adjust layout to avoid overlapping\n",
    "plt.tight_layout()\n",
    "\n",
    "# Show the plot\n",
    "plt.show()"
   ]
  },
  {
   "cell_type": "markdown",
   "id": "df2b79e4",
   "metadata": {},
   "source": [
    "The distribution of data in the train and test set appear to be relatively the same. We observe that some features are right and left skewed distributed. We can use log transformation to deal with that."
   ]
  },
  {
   "cell_type": "code",
   "execution_count": 14,
   "id": "8b036db7",
   "metadata": {},
   "outputs": [],
   "source": [
    "train_data.drop('id', axis = 1, inplace = True)\n",
    "id = test_data['id']\n",
    "test_data.drop('id', axis = 1, inplace = True)"
   ]
  },
  {
   "cell_type": "markdown",
   "id": "15a49006",
   "metadata": {},
   "source": [
    "## Numerical and Categorical feature"
   ]
  },
  {
   "cell_type": "code",
   "execution_count": 15,
   "id": "ebf3cd00",
   "metadata": {},
   "outputs": [
    {
     "name": "stdout",
     "output_type": "stream",
     "text": [
      "------------ Categorical columns---------------\n",
      "\n",
      "['city']\n",
      "\n",
      "------------ Numeric columns-------------------\n",
      "\n",
      "['weather_code', 'temperature_2m_max', 'temperature_2m_min', 'temperature_2m_mean', 'apparent_temperature_max', 'apparent_temperature_min', 'apparent_temperature_mean', 'daylight_duration', 'sunshine_duration', 'precipitation_sum', 'rain_sum', 'precipitation_hours', 'wind_speed_10m_max', 'wind_gusts_10m_max', 'wind_direction_10m_dominant', 'shortwave_radiation_sum', 'et0_fao_evapotranspiration', 'latitude', 'longitude', 'carbon_monoxide', 'nitrogen_dioxide', 'sulphur_dioxide', 'ozone', 'aerosol_optical_depth', 'dust', 'uv_index', 'uv_index_clear_sky']\n"
     ]
    }
   ],
   "source": [
    "categorical_features = [col for col in list(test_data.select_dtypes('object'))]\n",
    "numeric_features = [col for col in list(test_data.select_dtypes(['Int64', 'float64']))]\n",
    "\n",
    "print(\"------------ Categorical columns---------------\\n\")\n",
    "print(categorical_features)\n",
    "print(\"\\n------------ Numeric columns-------------------\\n\")\n",
    "print(numeric_features)"
   ]
  },
  {
   "cell_type": "code",
   "execution_count": 16,
   "id": "5a70e361",
   "metadata": {},
   "outputs": [],
   "source": [
    "X = train_data.drop(target, axis = 1)\n",
    "y = train_data[target]"
   ]
  },
  {
   "cell_type": "markdown",
   "id": "a22cac00",
   "metadata": {},
   "source": [
    "## Combining all the transformations with a ColumnTransformer"
   ]
  },
  {
   "cell_type": "code",
   "execution_count": 17,
   "id": "25b00c50",
   "metadata": {},
   "outputs": [],
   "source": [
    "#Custom function for log transformation \n",
    "def log_transform(X):\n",
    "    return np.log1p(X)\n",
    "\n",
    "#Create a LabelEncoder for each categorical feature\n",
    "label_encoders = {col: LabelEncoder() for col in categorical_features}\n",
    "\n",
    "def label_encode(X):\n",
    "    X = X.copy()\n",
    "    for feature in categorical_features:\n",
    "        X[feature] = label_encoders[feature].fit_transform(X[feature])\n",
    "    return X\n",
    "\n",
    "preprocessor = ColumnTransformer(\n",
    "    transformers=[\n",
    "        ('num', \n",
    "         Pipeline(steps = [('log', FunctionTransformer(log_transform)), ('scaler', StandardScaler())]), \n",
    "         numeric_features),\n",
    "        ('cat', FunctionTransformer(label_encode), categorical_features)\n",
    "    ], \n",
    "    remainder = 'passthrough'\n",
    "    )\n",
    "\n",
    "def to_dataframe(X, feature_names):\n",
    "    return pd.DataFrame(X, columns = feature_names)\n",
    "\n",
    "#Fit and transform the training data\n",
    "X_transformed = preprocessor.fit_transform(X)\n",
    "X = to_dataframe(X_transformed, X.columns)\n",
    "\n",
    "#Transform the test data\n",
    "test_data_transformed = preprocessor.transform(test_data)\n",
    "test_data = to_dataframe(test_data_transformed, test_data.columns)\n",
    "\n"
   ]
  },
  {
   "cell_type": "code",
   "execution_count": 18,
   "id": "c67fc327",
   "metadata": {},
   "outputs": [
    {
     "data": {
      "text/plain": [
       "((4120, 28), (1030, 28), (4120,))"
      ]
     },
     "execution_count": 18,
     "metadata": {},
     "output_type": "execute_result"
    }
   ],
   "source": [
    "X.shape, test_data.shape, y.shape"
   ]
  },
  {
   "cell_type": "markdown",
   "id": "e860406c",
   "metadata": {},
   "source": [
    "## Training Pipeline"
   ]
  },
  {
   "cell_type": "markdown",
   "id": "21bdc0ea",
   "metadata": {},
   "source": [
    "### Train test split"
   ]
  },
  {
   "cell_type": "code",
   "execution_count": 19,
   "id": "8da85e61",
   "metadata": {},
   "outputs": [],
   "source": [
    "X_train, X_val, y_train, y_val = train_test_split(X, y, test_size = 0.3, random_state = 42)"
   ]
  },
  {
   "cell_type": "markdown",
   "id": "a2abed3e",
   "metadata": {},
   "source": [
    "## Hyperparameter tuning with Optuna"
   ]
  },
  {
   "cell_type": "code",
   "execution_count": 20,
   "id": "cb6d1987",
   "metadata": {},
   "outputs": [],
   "source": [
    "# import optuna"
   ]
  },
  {
   "cell_type": "code",
   "execution_count": 21,
   "id": "bf86d09c",
   "metadata": {},
   "outputs": [],
   "source": [
    "# def objective(trial): \n",
    "#         \"\"\"Define the objective function\"\"\"\n",
    "#         params = {\n",
    "#         'max_depth': trial.suggest_int('max_depth', 1, 20),\n",
    "#         'learning_rate': trial.suggest_loguniform('learning_rate', 0.01, 1.0),\n",
    "#         'n_estimators': trial.suggest_int('n_estimators', 50, 2000),\n",
    "#         'min_child_weight': trial.suggest_int('min_child_weight', 1, 10),\n",
    "#         'subsample': trial.suggest_loguniform('subsample', 0.01, 1.0),\n",
    "#         'colsample_bytree': trial.suggest_loguniform('colsample_bytree', 0.01, 1.0),\n",
    "#         'reg_alpha': trial.suggest_loguniform('reg_alpha', 1e-8, 1.0),\n",
    "#         'reg_lambda': trial.suggest_loguniform('reg_lambda', 1e-8, 1.0),\n",
    "#         'eval_metric': 'rmse',\n",
    "#         'use_label_encoder': False, \n",
    "#         'tree_method' : 'hist', \n",
    "#         'verbosity': 0, \n",
    "#         'device': 'gpu'\n",
    "#         #'early_stopping_rounds': 20\n",
    "#     }\n",
    "\n",
    "#     # Fit the model\n",
    "#         optuna_model = XGBR(**params)\n",
    "#         optuna_model.fit(X_train, y_train)\n",
    "\n",
    "#     # Make predictions\n",
    "#         y_pred = optuna_model.predict(X_val)\n",
    "\n",
    "#     # Evaluate predictions\n",
    "#         rmse = np.sqrt(mean_squared_error(y_val, y_pred))\n",
    "#         return rmse\n",
    "\n",
    "\n",
    "# #Create the optuna study\n",
    "\n",
    "# study = optuna.create_study(direction = 'minimize')\n",
    "# study.optimize(objective, n_trials = 100)\n",
    "\n",
    "# #Print the best parameters\n",
    "# print(\"Number of finished trials: {}\".format(len(study.trials)))\n",
    "# print('Best trial: ')\n",
    "\n",
    "# trial = study.best_trial\n",
    "\n",
    "# print(' Value: {}'.format(trial.value))\n",
    "# print(' Params: ')\n",
    "\n",
    "# for key, value in trial.params.items(): \n",
    "#     print('   {}: {}'.format(key, value))"
   ]
  },
  {
   "cell_type": "code",
   "execution_count": null,
   "id": "60a61240",
   "metadata": {},
   "outputs": [],
   "source": []
  },
  {
   "cell_type": "code",
   "execution_count": 20,
   "id": "3c5de9cd",
   "metadata": {},
   "outputs": [],
   "source": [
    "regressors = [\n",
    "    (\"XGBR2\", XGBR(**default_config[\"models\"][\"xgbr\"])),\n",
    "    (\"XGBR1\", XGBR(**default_config[\"models\"][\"xgbr1\"])),\n",
    "    (\"CatBoost\", CatBoostRegressor(**default_config[\"models\"][\"catboost\"])),\n",
    "    (\"RandomForest\", RandomForestRegressor(**default_config[\"models\"][\"randomforest\"])),\n",
    "    (\"ElasticNet\", ElasticNet(**default_config[\"models\"][\"elasticnet\"])),\n",
    "    (\"SVR\", SVR(**default_config[\"models\"][\"svr\"])),\n",
    "    (\"KNN\", KNeighborsRegressor(**default_config[\"models\"][\"knn\"])),\n",
    "    (\"MLP\", MLPRegressor(**default_config[\"models\"][\"mlp\"])),\n",
    "    (\"GradientBoost\", GradientBoostingRegressor(**default_config[\"models\"][\"gradientboost\"]))\n",
    "]"
   ]
  },
  {
   "cell_type": "code",
   "execution_count": 21,
   "id": "c35dcdcd",
   "metadata": {},
   "outputs": [
    {
     "data": {
      "text/plain": [
       "((4120, 28), (1030, 28))"
      ]
     },
     "execution_count": 21,
     "metadata": {},
     "output_type": "execute_result"
    }
   ],
   "source": [
    "X.shape, test_data.shape"
   ]
  },
  {
   "cell_type": "code",
   "execution_count": 24,
   "id": "223ac7c4",
   "metadata": {},
   "outputs": [],
   "source": [
    "# X.drop(['latitude', 'longitude'], axis = 1, inplace = True)\n",
    "# test_data.drop(['latitude', 'longitude'], axis = 1, inplace = True)"
   ]
  },
  {
   "cell_type": "markdown",
   "id": "2a87919c",
   "metadata": {},
   "source": [
    "## Cross Validation"
   ]
  },
  {
   "cell_type": "code",
   "execution_count": 22,
   "id": "74c3eacf",
   "metadata": {},
   "outputs": [
    {
     "name": "stderr",
     "output_type": "stream",
     "text": [
      "Registered model 'XGBR2' already exists. Creating a new version of this model...\n",
      "2024/11/10 08:18:29 INFO mlflow.store.model_registry.abstract_store: Waiting up to 300 seconds for model version to finish creation. Model name: XGBR2, version 3\n",
      "Created version '3' of model 'XGBR2'.\n",
      "Registered model 'XGBR1' already exists. Creating a new version of this model...\n",
      "2024/11/10 08:19:41 INFO mlflow.store.model_registry.abstract_store: Waiting up to 300 seconds for model version to finish creation. Model name: XGBR1, version 3\n",
      "Created version '3' of model 'XGBR1'.\n"
     ]
    },
    {
     "name": "stdout",
     "output_type": "stream",
     "text": [
      "An error occured: 'CatBoostRegressor' object has no attribute 'max_depth'\n"
     ]
    }
   ],
   "source": [
    "# Define the custom RMSE function\n",
    "def custom_rmse(y_val, y_pred):\n",
    "    return np.sqrt(mean_squared_error(y_val, y_pred))\n",
    "\n",
    "# Create a custom scorer for RMSE\n",
    "custom_rmse_scorer = make_scorer(custom_rmse, greater_is_better=False)\n",
    "\n",
    "def get_important_params(model):\n",
    "    \"\"\"Extract important parameters based on model type\"\"\"\n",
    "    model_type = type(model).__name__\n",
    "    \n",
    "    if model_type in ['XGBRegressor', 'XGBModel']:\n",
    "        return {\n",
    "            \"max_depth\": getattr(model, 'max_depth', None),\n",
    "            \"learning_rate\": getattr(model, 'learning_rate', None),\n",
    "            \"n_estimators\": getattr(model, 'n_estimators', None),\n",
    "            \"colsample_bytree\": getattr(model, 'colsample_bytree', None),\n",
    "            \"subsample\": getattr(model, 'subsample', None)\n",
    "        }\n",
    "    \n",
    "    elif model_type == 'LGBMRegressor':\n",
    "        return {\n",
    "            \"max_depth\": getattr(model, 'max_depth', None),\n",
    "            \"learning_rate\": getattr(model, 'learning_rate', None),\n",
    "            \"n_estimators\": getattr(model, 'n_estimators', None),\n",
    "            \"colsample_bytree\": getattr(model, 'colsample_bytree', None),\n",
    "            \"subsample\": getattr(model, 'subsample', None)\n",
    "        }\n",
    "    \n",
    "    elif model_type == 'CatBoostRegressor':\n",
    "        return {\n",
    "            \"depth\": getattr(model, 'get_param', lambda x: None)('depth'),\n",
    "            \"learning_rate\": getattr(model, 'get_param', lambda x: None)('learning_rate'),\n",
    "            \"iterations\": getattr(model, 'get_param', lambda x: None)('iterations')\n",
    "        }\n",
    "    \n",
    "    elif model_type == 'RandomForestRegressor':\n",
    "        return {\n",
    "            \"max_depth\": getattr(model, 'max_depth', None),\n",
    "            \"n_estimators\": getattr(model, 'n_estimators', None),\n",
    "            \"min_samples_split\": getattr(model, 'min_samples_split', None),\n",
    "            \"min_samples_leaf\": getattr(model, 'min_samples_leaf', None)\n",
    "        }\n",
    "    \n",
    "    elif model_type == 'ElasticNet':\n",
    "        return {\n",
    "            \"alpha\": getattr(model, 'alpha', None),\n",
    "            \"l1_ratio\": getattr(model, 'l1_ratio', None),\n",
    "            \"max_iter\": getattr(model, 'max_iter', None)\n",
    "        }\n",
    "    \n",
    "    elif model_type == 'SVR':\n",
    "        return {\n",
    "            \"C\": getattr(model, 'C', None),\n",
    "            \"kernel\": getattr(model, 'kernel', None),\n",
    "            \"epsilon\": getattr(model, 'epsilon', None)\n",
    "        }\n",
    "    \n",
    "    elif model_type == 'KNeighborsRegressor':\n",
    "        return {\n",
    "            \"n_neighbors\": getattr(model, 'n_neighbors', None),\n",
    "            \"weights\": getattr(model, 'weights', None),\n",
    "            \"algorithm\": getattr(model, 'algorithm', None)\n",
    "        }\n",
    "    \n",
    "    elif model_type == 'MLPRegressor':\n",
    "        return {\n",
    "            \"hidden_layer_sizes\": getattr(model, 'hidden_layer_sizes', None),\n",
    "            \"activation\": getattr(model, 'activation', None),\n",
    "            \"solver\": getattr(model, 'solver', None),\n",
    "            \"alpha\": getattr(model, 'alpha', None)\n",
    "        }\n",
    "    \n",
    "    elif model_type == 'GradientBoostingRegressor':\n",
    "        return {\n",
    "            \"n_estimators\": getattr(model, 'n_estimators', None),\n",
    "            \"learning_rate\": getattr(model, 'learning_rate', None),\n",
    "            \"max_depth\": getattr(model, 'max_depth', None),\n",
    "            \"subsample\": getattr(model, 'subsample', None)\n",
    "        }\n",
    "    \n",
    "    return {\"model_type\": model_type}  # Return at least the model type if no specific parameters are defined\n",
    "\n",
    "def log_model_to_mlflow(model_name, model, artifact_path):\n",
    "    \"\"\"Log model to MLflow based on its type\"\"\"\n",
    "    model_type = type(model).__name__\n",
    "    \n",
    "    if model_type in ['XGBRegressor', 'XGBModel']:\n",
    "        mlflow.xgboost.log_model(\n",
    "            xgb_model=model,\n",
    "            artifact_path=artifact_path,\n",
    "            registered_model_name=model_name\n",
    "        )\n",
    "    elif model_type == 'LGBMRegressor':\n",
    "        mlflow.lightgbm.log_model(\n",
    "            lgb_model=model,\n",
    "            artifact_path=artifact_path,\n",
    "            registered_model_name=model_name\n",
    "        )\n",
    "    elif model_type == 'CatBoostRegressor':\n",
    "        mlflow.catboost.log_model(\n",
    "            cb_model=model,\n",
    "            artifact_path=artifact_path,\n",
    "            registered_model_name=model_name\n",
    "        )\n",
    "    else:\n",
    "        mlflow.sklearn.log_model(\n",
    "            sk_model=model,\n",
    "            artifact_path=artifact_path,\n",
    "            registered_model_name=model_name\n",
    "        )\n",
    "\n",
    "def train_and_log_model(model_name, model, X, y):\n",
    "    with mlflow.start_run() as run:\n",
    "        # Create and train pipeline\n",
    "        pipeline = Pipeline(steps=[(model_name, model)])\n",
    "        cv_results = cross_validate(\n",
    "            pipeline, X, y,\n",
    "            cv=KFold(\n",
    "                n_splits=default_config[\"cv\"][\"n_splits\"],\n",
    "                shuffle=default_config[\"cv\"][\"shuffle\"],\n",
    "                random_state=default_config[\"cv\"][\"random_state\"]\n",
    "            ),\n",
    "            scoring=custom_rmse_scorer,\n",
    "            n_jobs=default_config[\"n_jobs\"],\n",
    "            return_train_score=True\n",
    "        )\n",
    "\n",
    "        # Fit the pipeline\n",
    "        pipeline.fit(X, y)\n",
    "\n",
    "        # Get the model from pipeline\n",
    "        fitted_model = pipeline.named_steps[model_name]\n",
    "\n",
    "        # Log parameters\n",
    "        mlflow.log_params({\"model_name\": model_name})\n",
    "        important_params = get_important_params(fitted_model)\n",
    "        mlflow.log_params(important_params)\n",
    "\n",
    "        # Log metrics\n",
    "        mlflow.log_metrics({\n",
    "            \"Mean Train RMSE Score\": np.mean(cv_results['train_score']),\n",
    "            \"Mean Test RMSE Score\": np.mean(cv_results['test_score'])\n",
    "        })\n",
    "\n",
    "        # Log tags\n",
    "        mlflow.set_tags(default_config[\"mlflow\"][\"tags\"])\n",
    "\n",
    "        # Log model\n",
    "        log_model_to_mlflow(model_name, fitted_model, model_name)\n",
    "\n",
    "        return {\n",
    "            \"Model Name\": model_name,\n",
    "            \"Mean Train RMSE Score\": np.mean(cv_results['train_score']),\n",
    "            \"Mean Test RMSE Score\": np.mean(cv_results['test_score']),\n",
    "            \"Run ID\": run.info.run_id\n",
    "        }\n",
    "\n",
    "# Train and log all models\n",
    "try:\n",
    "    results = [train_and_log_model(model_name, model, X, y) for model_name, model in regressors]\n",
    "    results_df = pd.DataFrame(results)\n",
    "except Exception as e:\n",
    "    print(f\"An error occurred: {str(e)}\")\n",
    "    # Print more detailed error information\n",
    "    import traceback\n",
    "    print(traceback.format_exc())"
   ]
  },
  {
   "cell_type": "markdown",
   "id": "5ac09234",
   "metadata": {},
   "source": [
    "## Get the Best Model and the Best run"
   ]
  },
  {
   "cell_type": "code",
   "execution_count": null,
   "id": "9df48b24",
   "metadata": {},
   "outputs": [],
   "source": [
    "best_model = results_df.loc[results_df['Mean Test RMSE Score'].idxmax()]\n",
    "best_run_id = best_model['Run ID']\n",
    "best_model_name = best_model['Model Name']\n",
    "\n",
    "print(f\"The best model is {best_model_name} with a Mean Test RMSE Score of {best_model['Mean Test RMSE Score']:.4f}\")\n",
    "print(f\"The best run ID is {best_run_id}\")\n"
   ]
  },
  {
   "cell_type": "markdown",
   "id": "d5dd613d",
   "metadata": {},
   "source": [
    "## Feature Importance"
   ]
  },
  {
   "cell_type": "code",
   "execution_count": null,
   "id": "3d4a0a5a",
   "metadata": {},
   "outputs": [],
   "source": [
    "\n",
    "logged_model = f'runs:/{best_run_id}/{best_model_name}'\n",
    "# Load model as a PyFuncModel.\n",
    "loaded_model = mlflow.xgboost.load_model(logged_model)\n",
    "\n",
    "# Let's look feature importance\n",
    "\n",
    "feature_importances = loaded_model.feature_importances_\n",
    "\n",
    "# Get the feature names\n",
    "feature_names = X.columns\n",
    "\n",
    "#Create a DataFrame to better display the feature importance\n",
    "feature_importance_df = pd.DataFrame({\"feature\": feature_names, \"importance\": feature_importances})\n",
    "\n",
    "# Sort the DataFrame by importance in descending order\n",
    "feature_importance_df = feature_importance_df.sort_values(by = \"importance\", ascending = False)\n",
    "\n",
    "# Plot the feature importance\n",
    "plt.figure(figsize = (10, 6))\n",
    "sns.barplot(x = \"importance\", y = \"feature\", data = feature_importance_df)\n",
    "plt.title(\"Feature Importance\")\n",
    "plt.xlabel(\"Importance\")\n",
    "plt.savefig(\"feature_importance_plot.png\")\n",
    "plt.show()\n",
    "\n",
    "#Save the feature importance plot in Mlflow\n",
    "mlflow.log_artifact(\"feature_importance_plot.png\", artifact_path = \"feature_importance.png\", run_id=best_run_id)\n"
   ]
  },
  {
   "cell_type": "markdown",
   "id": "e66eb3f0",
   "metadata": {},
   "source": [
    "## Make Predictions"
   ]
  },
  {
   "cell_type": "code",
   "execution_count": null,
   "id": "60010f6f",
   "metadata": {},
   "outputs": [],
   "source": [
    "preds = loaded_model.predict(test_data)\n",
    "preds_df = pd.DataFrame({\"id\": id, \"pm2_5\": preds})\n",
    "\n",
    "preds_df.head()"
   ]
  },
  {
   "cell_type": "code",
   "execution_count": 8,
   "id": "81193589",
   "metadata": {},
   "outputs": [],
   "source": [
    "import pandas as pd\n",
    "submission_df = pd.read_csv('../data/train_test_data/raw_data/submission.csv')\n",
    "submission_df\n",
    "submission_df.drop(['id', 'Usage'], axis = 1, inplace = True)\n",
    "submission_df.head()\n",
    "submission_df.to_csv('../data/train_test_data/preprocessed_data/test_target.csv', index = False)\n"
   ]
  },
  {
   "cell_type": "code",
   "execution_count": null,
   "id": "0263ab55",
   "metadata": {},
   "outputs": [],
   "source": [
    "import pandas as pd\n",
    "\n",
    "train_data = pd.read_csv('../data/train_test_data/preprocessed_data/train_X.csv')\n",
    "train_data.head()\n",
    "\n",
    "\n",
    "\n",
    "\n",
    "\n"
   ]
  },
  {
   "cell_type": "code",
   "execution_count": null,
   "id": "9edaa140",
   "metadata": {},
   "outputs": [],
   "source": [
    "raw_train = pd.read_csv('../data/train_test_data/raw_data/train.csv')\n",
    "raw_train.head()\n"
   ]
  }
 ],
 "metadata": {
  "kernelspec": {
   "display_name": "Python 3 (ipykernel)",
   "language": "python",
   "name": "python3"
  },
  "language_info": {
   "codemirror_mode": {
    "name": "ipython",
    "version": 3
   },
   "file_extension": ".py",
   "mimetype": "text/x-python",
   "name": "python",
   "nbconvert_exporter": "python",
   "pygments_lexer": "ipython3",
   "version": "3.11.7"
  }
 },
 "nbformat": 4,
 "nbformat_minor": 5
}
